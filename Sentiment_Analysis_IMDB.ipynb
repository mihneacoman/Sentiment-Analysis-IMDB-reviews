{
  "nbformat": 4,
  "nbformat_minor": 0,
  "metadata": {
    "colab": {
      "provenance": [],
      "gpuType": "T4",
      "include_colab_link": true
    },
    "kernelspec": {
      "name": "python3",
      "display_name": "Python 3"
    },
    "language_info": {
      "name": "python"
    },
    "accelerator": "GPU"
  },
  "cells": [
    {
      "cell_type": "markdown",
      "metadata": {
        "id": "view-in-github",
        "colab_type": "text"
      },
      "source": [
        "<a href=\"https://colab.research.google.com/github/mihneacoman/Sentiment-Analysis-IMDB-reviews/blob/main/Another_copy_of_Sentiment_Analysis.ipynb\" target=\"_parent\"><img src=\"https://colab.research.google.com/assets/colab-badge.svg\" alt=\"Open In Colab\"/></a>"
      ]
    },
    {
      "cell_type": "markdown",
      "source": [
        "\n",
        "\n",
        "---\n",
        "\n",
        "---\n",
        "\n",
        "\n",
        "\n",
        "\n",
        "**Importing the csv file and renaming the columns.**\n",
        "\n",
        "---\n",
        "\n",
        "---\n",
        "\n",
        "\n",
        "\n"
      ],
      "metadata": {
        "id": "9qbag0OLTKs0"
      }
    },
    {
      "cell_type": "code",
      "execution_count": 1,
      "metadata": {
        "colab": {
          "base_uri": "https://localhost:8080/"
        },
        "id": "-DQUblQtntLx",
        "outputId": "8e7971e8-6261-4baa-af42-b0036c501521"
      },
      "outputs": [
        {
          "output_type": "stream",
          "name": "stdout",
          "text": [
            "Drive already mounted at /content/drive; to attempt to forcibly remount, call drive.mount(\"/content/drive\", force_remount=True).\n"
          ]
        }
      ],
      "source": [
        "import numpy as np\n",
        "import pandas as pd\n",
        "import os\n",
        "\n",
        "from google.colab import drive\n",
        "drive.mount('/content/drive')\n",
        "path = \"/content/drive/MyDrive/Colab Notebooks/Proiect IMDB/\"\n",
        "df = pd.read_csv(path+'IMDB Dataset.csv')"
      ]
    },
    {
      "cell_type": "markdown",
      "source": [
        "Importing the required libraries."
      ],
      "metadata": {
        "id": "r5CPFC4PSuwz"
      }
    },
    {
      "cell_type": "code",
      "source": [
        "import pandas as pd\n",
        "import numpy as np\n",
        "import matplotlib.pyplot as plt\n",
        "import re\n",
        "import spacy\n",
        "import nltk\n",
        "from sklearn.model_selection import train_test_split\n",
        "from sklearn.feature_extraction.text import TfidfVectorizer\n",
        "from sklearn.linear_model import LogisticRegression\n",
        "from sklearn.metrics import classification_report, accuracy_score\n",
        "from nltk.stem import WordNetLemmatizer\n",
        "from nltk.corpus import stopwords\n",
        "import nltk\n",
        "from sklearn.naive_bayes import MultinomialNB\n",
        "from sklearn.svm import SVC\n",
        "from bs4 import BeautifulSoup\n",
        "from nltk.corpus import wordnet as wn\n",
        "nltk.download('stopwords')\n",
        "nltk.download('wordnet')"
      ],
      "metadata": {
        "colab": {
          "base_uri": "https://localhost:8080/"
        },
        "id": "hUl_8iUQSuIp",
        "outputId": "df674dfc-015b-49e5-ebff-4e32930af852"
      },
      "execution_count": 2,
      "outputs": [
        {
          "output_type": "stream",
          "name": "stderr",
          "text": [
            "[nltk_data] Downloading package stopwords to /root/nltk_data...\n",
            "[nltk_data]   Package stopwords is already up-to-date!\n",
            "[nltk_data] Downloading package wordnet to /root/nltk_data...\n",
            "[nltk_data]   Package wordnet is already up-to-date!\n"
          ]
        },
        {
          "output_type": "execute_result",
          "data": {
            "text/plain": [
              "True"
            ]
          },
          "metadata": {},
          "execution_count": 2
        }
      ]
    },
    {
      "cell_type": "code",
      "source": [
        "df = df.rename(columns={'review': 'text'})\n",
        "df['sentiment'] = df['sentiment'].map({'negative':-1,'positive':1})\n",
        "df"
      ],
      "metadata": {
        "id": "Xl17vZjSpRAU",
        "colab": {
          "base_uri": "https://localhost:8080/",
          "height": 424
        },
        "outputId": "7271aa1a-61de-4a7a-e3c3-57289273f05b"
      },
      "execution_count": 3,
      "outputs": [
        {
          "output_type": "execute_result",
          "data": {
            "text/plain": [
              "                                                    text  sentiment\n",
              "0      One of the other reviewers has mentioned that ...          1\n",
              "1      A wonderful little production. <br /><br />The...          1\n",
              "2      I thought this was a wonderful way to spend ti...          1\n",
              "3      Basically there's a family where a little boy ...         -1\n",
              "4      Petter Mattei's \"Love in the Time of Money\" is...          1\n",
              "...                                                  ...        ...\n",
              "49995  I thought this movie did a down right good job...          1\n",
              "49996  Bad plot, bad dialogue, bad acting, idiotic di...         -1\n",
              "49997  I am a Catholic taught in parochial elementary...         -1\n",
              "49998  I'm going to have to disagree with the previou...         -1\n",
              "49999  No one expects the Star Trek movies to be high...         -1\n",
              "\n",
              "[50000 rows x 2 columns]"
            ],
            "text/html": [
              "\n",
              "  <div id=\"df-0ad5ed96-44d2-4b16-83fb-d6c87e13e545\" class=\"colab-df-container\">\n",
              "    <div>\n",
              "<style scoped>\n",
              "    .dataframe tbody tr th:only-of-type {\n",
              "        vertical-align: middle;\n",
              "    }\n",
              "\n",
              "    .dataframe tbody tr th {\n",
              "        vertical-align: top;\n",
              "    }\n",
              "\n",
              "    .dataframe thead th {\n",
              "        text-align: right;\n",
              "    }\n",
              "</style>\n",
              "<table border=\"1\" class=\"dataframe\">\n",
              "  <thead>\n",
              "    <tr style=\"text-align: right;\">\n",
              "      <th></th>\n",
              "      <th>text</th>\n",
              "      <th>sentiment</th>\n",
              "    </tr>\n",
              "  </thead>\n",
              "  <tbody>\n",
              "    <tr>\n",
              "      <th>0</th>\n",
              "      <td>One of the other reviewers has mentioned that ...</td>\n",
              "      <td>1</td>\n",
              "    </tr>\n",
              "    <tr>\n",
              "      <th>1</th>\n",
              "      <td>A wonderful little production. &lt;br /&gt;&lt;br /&gt;The...</td>\n",
              "      <td>1</td>\n",
              "    </tr>\n",
              "    <tr>\n",
              "      <th>2</th>\n",
              "      <td>I thought this was a wonderful way to spend ti...</td>\n",
              "      <td>1</td>\n",
              "    </tr>\n",
              "    <tr>\n",
              "      <th>3</th>\n",
              "      <td>Basically there's a family where a little boy ...</td>\n",
              "      <td>-1</td>\n",
              "    </tr>\n",
              "    <tr>\n",
              "      <th>4</th>\n",
              "      <td>Petter Mattei's \"Love in the Time of Money\" is...</td>\n",
              "      <td>1</td>\n",
              "    </tr>\n",
              "    <tr>\n",
              "      <th>...</th>\n",
              "      <td>...</td>\n",
              "      <td>...</td>\n",
              "    </tr>\n",
              "    <tr>\n",
              "      <th>49995</th>\n",
              "      <td>I thought this movie did a down right good job...</td>\n",
              "      <td>1</td>\n",
              "    </tr>\n",
              "    <tr>\n",
              "      <th>49996</th>\n",
              "      <td>Bad plot, bad dialogue, bad acting, idiotic di...</td>\n",
              "      <td>-1</td>\n",
              "    </tr>\n",
              "    <tr>\n",
              "      <th>49997</th>\n",
              "      <td>I am a Catholic taught in parochial elementary...</td>\n",
              "      <td>-1</td>\n",
              "    </tr>\n",
              "    <tr>\n",
              "      <th>49998</th>\n",
              "      <td>I'm going to have to disagree with the previou...</td>\n",
              "      <td>-1</td>\n",
              "    </tr>\n",
              "    <tr>\n",
              "      <th>49999</th>\n",
              "      <td>No one expects the Star Trek movies to be high...</td>\n",
              "      <td>-1</td>\n",
              "    </tr>\n",
              "  </tbody>\n",
              "</table>\n",
              "<p>50000 rows × 2 columns</p>\n",
              "</div>\n",
              "    <div class=\"colab-df-buttons\">\n",
              "\n",
              "  <div class=\"colab-df-container\">\n",
              "    <button class=\"colab-df-convert\" onclick=\"convertToInteractive('df-0ad5ed96-44d2-4b16-83fb-d6c87e13e545')\"\n",
              "            title=\"Convert this dataframe to an interactive table.\"\n",
              "            style=\"display:none;\">\n",
              "\n",
              "  <svg xmlns=\"http://www.w3.org/2000/svg\" height=\"24px\" viewBox=\"0 -960 960 960\">\n",
              "    <path d=\"M120-120v-720h720v720H120Zm60-500h600v-160H180v160Zm220 220h160v-160H400v160Zm0 220h160v-160H400v160ZM180-400h160v-160H180v160Zm440 0h160v-160H620v160ZM180-180h160v-160H180v160Zm440 0h160v-160H620v160Z\"/>\n",
              "  </svg>\n",
              "    </button>\n",
              "\n",
              "  <style>\n",
              "    .colab-df-container {\n",
              "      display:flex;\n",
              "      gap: 12px;\n",
              "    }\n",
              "\n",
              "    .colab-df-convert {\n",
              "      background-color: #E8F0FE;\n",
              "      border: none;\n",
              "      border-radius: 50%;\n",
              "      cursor: pointer;\n",
              "      display: none;\n",
              "      fill: #1967D2;\n",
              "      height: 32px;\n",
              "      padding: 0 0 0 0;\n",
              "      width: 32px;\n",
              "    }\n",
              "\n",
              "    .colab-df-convert:hover {\n",
              "      background-color: #E2EBFA;\n",
              "      box-shadow: 0px 1px 2px rgba(60, 64, 67, 0.3), 0px 1px 3px 1px rgba(60, 64, 67, 0.15);\n",
              "      fill: #174EA6;\n",
              "    }\n",
              "\n",
              "    .colab-df-buttons div {\n",
              "      margin-bottom: 4px;\n",
              "    }\n",
              "\n",
              "    [theme=dark] .colab-df-convert {\n",
              "      background-color: #3B4455;\n",
              "      fill: #D2E3FC;\n",
              "    }\n",
              "\n",
              "    [theme=dark] .colab-df-convert:hover {\n",
              "      background-color: #434B5C;\n",
              "      box-shadow: 0px 1px 3px 1px rgba(0, 0, 0, 0.15);\n",
              "      filter: drop-shadow(0px 1px 2px rgba(0, 0, 0, 0.3));\n",
              "      fill: #FFFFFF;\n",
              "    }\n",
              "  </style>\n",
              "\n",
              "    <script>\n",
              "      const buttonEl =\n",
              "        document.querySelector('#df-0ad5ed96-44d2-4b16-83fb-d6c87e13e545 button.colab-df-convert');\n",
              "      buttonEl.style.display =\n",
              "        google.colab.kernel.accessAllowed ? 'block' : 'none';\n",
              "\n",
              "      async function convertToInteractive(key) {\n",
              "        const element = document.querySelector('#df-0ad5ed96-44d2-4b16-83fb-d6c87e13e545');\n",
              "        const dataTable =\n",
              "          await google.colab.kernel.invokeFunction('convertToInteractive',\n",
              "                                                    [key], {});\n",
              "        if (!dataTable) return;\n",
              "\n",
              "        const docLinkHtml = 'Like what you see? Visit the ' +\n",
              "          '<a target=\"_blank\" href=https://colab.research.google.com/notebooks/data_table.ipynb>data table notebook</a>'\n",
              "          + ' to learn more about interactive tables.';\n",
              "        element.innerHTML = '';\n",
              "        dataTable['output_type'] = 'display_data';\n",
              "        await google.colab.output.renderOutput(dataTable, element);\n",
              "        const docLink = document.createElement('div');\n",
              "        docLink.innerHTML = docLinkHtml;\n",
              "        element.appendChild(docLink);\n",
              "      }\n",
              "    </script>\n",
              "  </div>\n",
              "\n",
              "\n",
              "    <div id=\"df-1a80e700-1fdb-4a5d-8f53-650d67360847\">\n",
              "      <button class=\"colab-df-quickchart\" onclick=\"quickchart('df-1a80e700-1fdb-4a5d-8f53-650d67360847')\"\n",
              "                title=\"Suggest charts\"\n",
              "                style=\"display:none;\">\n",
              "\n",
              "<svg xmlns=\"http://www.w3.org/2000/svg\" height=\"24px\"viewBox=\"0 0 24 24\"\n",
              "     width=\"24px\">\n",
              "    <g>\n",
              "        <path d=\"M19 3H5c-1.1 0-2 .9-2 2v14c0 1.1.9 2 2 2h14c1.1 0 2-.9 2-2V5c0-1.1-.9-2-2-2zM9 17H7v-7h2v7zm4 0h-2V7h2v10zm4 0h-2v-4h2v4z\"/>\n",
              "    </g>\n",
              "</svg>\n",
              "      </button>\n",
              "\n",
              "<style>\n",
              "  .colab-df-quickchart {\n",
              "      --bg-color: #E8F0FE;\n",
              "      --fill-color: #1967D2;\n",
              "      --hover-bg-color: #E2EBFA;\n",
              "      --hover-fill-color: #174EA6;\n",
              "      --disabled-fill-color: #AAA;\n",
              "      --disabled-bg-color: #DDD;\n",
              "  }\n",
              "\n",
              "  [theme=dark] .colab-df-quickchart {\n",
              "      --bg-color: #3B4455;\n",
              "      --fill-color: #D2E3FC;\n",
              "      --hover-bg-color: #434B5C;\n",
              "      --hover-fill-color: #FFFFFF;\n",
              "      --disabled-bg-color: #3B4455;\n",
              "      --disabled-fill-color: #666;\n",
              "  }\n",
              "\n",
              "  .colab-df-quickchart {\n",
              "    background-color: var(--bg-color);\n",
              "    border: none;\n",
              "    border-radius: 50%;\n",
              "    cursor: pointer;\n",
              "    display: none;\n",
              "    fill: var(--fill-color);\n",
              "    height: 32px;\n",
              "    padding: 0;\n",
              "    width: 32px;\n",
              "  }\n",
              "\n",
              "  .colab-df-quickchart:hover {\n",
              "    background-color: var(--hover-bg-color);\n",
              "    box-shadow: 0 1px 2px rgba(60, 64, 67, 0.3), 0 1px 3px 1px rgba(60, 64, 67, 0.15);\n",
              "    fill: var(--button-hover-fill-color);\n",
              "  }\n",
              "\n",
              "  .colab-df-quickchart-complete:disabled,\n",
              "  .colab-df-quickchart-complete:disabled:hover {\n",
              "    background-color: var(--disabled-bg-color);\n",
              "    fill: var(--disabled-fill-color);\n",
              "    box-shadow: none;\n",
              "  }\n",
              "\n",
              "  .colab-df-spinner {\n",
              "    border: 2px solid var(--fill-color);\n",
              "    border-color: transparent;\n",
              "    border-bottom-color: var(--fill-color);\n",
              "    animation:\n",
              "      spin 1s steps(1) infinite;\n",
              "  }\n",
              "\n",
              "  @keyframes spin {\n",
              "    0% {\n",
              "      border-color: transparent;\n",
              "      border-bottom-color: var(--fill-color);\n",
              "      border-left-color: var(--fill-color);\n",
              "    }\n",
              "    20% {\n",
              "      border-color: transparent;\n",
              "      border-left-color: var(--fill-color);\n",
              "      border-top-color: var(--fill-color);\n",
              "    }\n",
              "    30% {\n",
              "      border-color: transparent;\n",
              "      border-left-color: var(--fill-color);\n",
              "      border-top-color: var(--fill-color);\n",
              "      border-right-color: var(--fill-color);\n",
              "    }\n",
              "    40% {\n",
              "      border-color: transparent;\n",
              "      border-right-color: var(--fill-color);\n",
              "      border-top-color: var(--fill-color);\n",
              "    }\n",
              "    60% {\n",
              "      border-color: transparent;\n",
              "      border-right-color: var(--fill-color);\n",
              "    }\n",
              "    80% {\n",
              "      border-color: transparent;\n",
              "      border-right-color: var(--fill-color);\n",
              "      border-bottom-color: var(--fill-color);\n",
              "    }\n",
              "    90% {\n",
              "      border-color: transparent;\n",
              "      border-bottom-color: var(--fill-color);\n",
              "    }\n",
              "  }\n",
              "</style>\n",
              "\n",
              "      <script>\n",
              "        async function quickchart(key) {\n",
              "          const quickchartButtonEl =\n",
              "            document.querySelector('#' + key + ' button');\n",
              "          quickchartButtonEl.disabled = true;  // To prevent multiple clicks.\n",
              "          quickchartButtonEl.classList.add('colab-df-spinner');\n",
              "          try {\n",
              "            const charts = await google.colab.kernel.invokeFunction(\n",
              "                'suggestCharts', [key], {});\n",
              "          } catch (error) {\n",
              "            console.error('Error during call to suggestCharts:', error);\n",
              "          }\n",
              "          quickchartButtonEl.classList.remove('colab-df-spinner');\n",
              "          quickchartButtonEl.classList.add('colab-df-quickchart-complete');\n",
              "        }\n",
              "        (() => {\n",
              "          let quickchartButtonEl =\n",
              "            document.querySelector('#df-1a80e700-1fdb-4a5d-8f53-650d67360847 button');\n",
              "          quickchartButtonEl.style.display =\n",
              "            google.colab.kernel.accessAllowed ? 'block' : 'none';\n",
              "        })();\n",
              "      </script>\n",
              "    </div>\n",
              "\n",
              "  <div id=\"id_5157ea22-6b7f-4e85-9c17-a254aa1b2213\">\n",
              "    <style>\n",
              "      .colab-df-generate {\n",
              "        background-color: #E8F0FE;\n",
              "        border: none;\n",
              "        border-radius: 50%;\n",
              "        cursor: pointer;\n",
              "        display: none;\n",
              "        fill: #1967D2;\n",
              "        height: 32px;\n",
              "        padding: 0 0 0 0;\n",
              "        width: 32px;\n",
              "      }\n",
              "\n",
              "      .colab-df-generate:hover {\n",
              "        background-color: #E2EBFA;\n",
              "        box-shadow: 0px 1px 2px rgba(60, 64, 67, 0.3), 0px 1px 3px 1px rgba(60, 64, 67, 0.15);\n",
              "        fill: #174EA6;\n",
              "      }\n",
              "\n",
              "      [theme=dark] .colab-df-generate {\n",
              "        background-color: #3B4455;\n",
              "        fill: #D2E3FC;\n",
              "      }\n",
              "\n",
              "      [theme=dark] .colab-df-generate:hover {\n",
              "        background-color: #434B5C;\n",
              "        box-shadow: 0px 1px 3px 1px rgba(0, 0, 0, 0.15);\n",
              "        filter: drop-shadow(0px 1px 2px rgba(0, 0, 0, 0.3));\n",
              "        fill: #FFFFFF;\n",
              "      }\n",
              "    </style>\n",
              "    <button class=\"colab-df-generate\" onclick=\"generateWithVariable('df')\"\n",
              "            title=\"Generate code using this dataframe.\"\n",
              "            style=\"display:none;\">\n",
              "\n",
              "  <svg xmlns=\"http://www.w3.org/2000/svg\" height=\"24px\"viewBox=\"0 0 24 24\"\n",
              "       width=\"24px\">\n",
              "    <path d=\"M7,19H8.4L18.45,9,17,7.55,7,17.6ZM5,21V16.75L18.45,3.32a2,2,0,0,1,2.83,0l1.4,1.43a1.91,1.91,0,0,1,.58,1.4,1.91,1.91,0,0,1-.58,1.4L9.25,21ZM18.45,9,17,7.55Zm-12,3A5.31,5.31,0,0,0,4.9,8.1,5.31,5.31,0,0,0,1,6.5,5.31,5.31,0,0,0,4.9,4.9,5.31,5.31,0,0,0,6.5,1,5.31,5.31,0,0,0,8.1,4.9,5.31,5.31,0,0,0,12,6.5,5.46,5.46,0,0,0,6.5,12Z\"/>\n",
              "  </svg>\n",
              "    </button>\n",
              "    <script>\n",
              "      (() => {\n",
              "      const buttonEl =\n",
              "        document.querySelector('#id_5157ea22-6b7f-4e85-9c17-a254aa1b2213 button.colab-df-generate');\n",
              "      buttonEl.style.display =\n",
              "        google.colab.kernel.accessAllowed ? 'block' : 'none';\n",
              "\n",
              "      buttonEl.onclick = () => {\n",
              "        google.colab.notebook.generateWithVariable('df');\n",
              "      }\n",
              "      })();\n",
              "    </script>\n",
              "  </div>\n",
              "\n",
              "    </div>\n",
              "  </div>\n"
            ],
            "application/vnd.google.colaboratory.intrinsic+json": {
              "type": "dataframe",
              "variable_name": "df",
              "summary": "{\n  \"name\": \"df\",\n  \"rows\": 50000,\n  \"fields\": [\n    {\n      \"column\": \"text\",\n      \"properties\": {\n        \"dtype\": \"string\",\n        \"num_unique_values\": 49582,\n        \"samples\": [\n          \"\\\"Soul Plane\\\" is a horrible attempt at comedy that only should appeal people with thick skulls, bloodshot eyes and furry pawns. <br /><br />The plot is not only incoherent but also non-existent, acting is mostly sub sub-par with a gang of highly moronic and dreadful characters thrown in for bad measure, jokes are often spotted miles ahead and almost never even a bit amusing. This movie lacks any structure and is full of racial stereotypes that must have seemed old even in the fifties, the only thing it really has going for it is some pretty ladies, but really, if you want that you can rent something from the \\\"Adult\\\" section. OK?<br /><br />I can hardly see anything here to recommend since you'll probably have a lot a better and productive time chasing rats with a sledgehammer or inventing waterproof teabags or whatever.<br /><br />2/10\",\n          \"Guest from the Future tells a fascinating story of time travel, friendship, battle of good and evil -- all with a small budget, child actors, and few special effects. Something for Spielberg and Lucas to learn from. ;) A sixth-grader Kolya \\\"Nick\\\" Gerasimov finds a time machine in the basement of a decrepit building and travels 100 years into the future. He discovers a near-perfect, utopian society where robots play guitars and write poetry, everyone is kind to each other and people enjoy everything technology has to offer. Alice is the daughter of a prominent scientist who invented a device called Mielophone that allows to read minds of humans and animals. The device can be put to both good and bad use, depending on whose hands it falls into. When two evil space pirates from Saturn who want to rule the universe attempt to steal Mielophone, it falls into the hands of 20th century school boy Nick. With the pirates hot on his tracks, he travels back to his time, followed by the pirates, and Alice. Chaos, confusion and funny situations follow as the luckless pirates try to blend in with the earthlings. Alice enrolls in the same school Nick goes to and demonstrates superhuman abilities in PE class. The catch is, Alice doesn't know what Nick looks like, while the pirates do. Also, the pirates are able to change their appearance and turn literally into anyone. (Hmm, I wonder if this is where James Cameron got the idea for Terminator...) Who gets to Nick -- and Mielophone -- first? Excellent plot, non-stop adventures, and great soundtrack. I wish Hollywood made kid movies like this one...\",\n          \"\\\"National Treasure\\\" (2004) is a thoroughly misguided hodge-podge of plot entanglements that borrow from nearly every cloak and dagger government conspiracy clich\\u00e9 that has ever been written. The film stars Nicholas Cage as Benjamin Franklin Gates (how precious is that, I ask you?); a seemingly normal fellow who, for no other reason than being of a lineage of like-minded misguided fortune hunters, decides to steal a 'national treasure' that has been hidden by the United States founding fathers. After a bit of subtext and background that plays laughably (unintentionally) like Indiana Jones meets The Patriot, the film degenerates into one misguided whimsy after another \\u0096 attempting to create a 'Stanley Goodspeed' regurgitation of Nicholas Cage and launch the whole convoluted mess forward with a series of high octane, but disconnected misadventures.<br /><br />The relevancy and logic to having George Washington and his motley crew of patriots burying a king's ransom someplace on native soil, and then, going through the meticulous plan of leaving clues scattered throughout U.S. currency art work, is something that director Jon Turteltaub never quite gets around to explaining. Couldn't Washington found better usage for such wealth during the start up of the country? Hence, we are left with a mystery built on top of an enigma that is already on shaky ground by the time Ben appoints himself the new custodian of this untold wealth. Ben's intentions are noble \\u0096 if confusing. He's set on protecting the treasure. For who and when?\\u0085your guess is as good as mine.<br /><br />But there are a few problems with Ben's crusade. First up, his friend, Ian Holmes (Sean Bean) decides that he can't wait for Ben to make up his mind about stealing the Declaration of Independence from the National Archives (oh, yeah \\u0096 brilliant idea!). Presumably, the back of that famous document holds the secret answer to the ultimate fortune. So Ian tries to kill Ben. The assassination attempt is, of course, unsuccessful, if overly melodramatic. It also affords Ben the opportunity to pick up, and pick on, the very sultry curator of the archives, Abigail Chase (Diane Kruger). She thinks Ben is clearly a nut \\u0096 at least at the beginning. But true to action/romance form, Abby's resolve melts quicker than you can say, \\\"is that the Hope Diamond?\\\" The film moves into full X-File-ish mode, as the FBI, mistakenly believing that Ben is behind the theft, retaliate in various benign ways that lead to a multi-layering of action sequences reminiscent of Mission Impossible meets The Fugitive. Honestly, don't those guys ever get 'intelligence' information that is correct? In the final analysis, \\\"National Treasure\\\" isn't great film making, so much as it's a patchwork rehash of tired old bits from other movies, woven together from scraps, the likes of which would make IL' Betsy Ross blush.<br /><br />The Buena Vista DVD delivers a far more generous treatment than this film is deserving of. The anamorphic widescreen picture exhibits a very smooth and finely detailed image with very rich colors, natural flesh tones, solid blacks and clean whites. The stylized image is also free of blemishes and digital enhancements. The audio is 5.1 and delivers a nice sonic boom to your side and rear speakers with intensity and realism. Extras include a host of promotional junket material that is rather deep and over the top in its explanation of how and why this film was made. If only, as an audience, we had had more clarification as to why Ben and co. were chasing after an illusive treasure, this might have been one good flick. Extras conclude with the theatrical trailer, audio commentary and deleted scenes. Not for the faint-hearted \\u0096 just the thick-headed.\"\n        ],\n        \"semantic_type\": \"\",\n        \"description\": \"\"\n      }\n    },\n    {\n      \"column\": \"sentiment\",\n      \"properties\": {\n        \"dtype\": \"number\",\n        \"std\": 1,\n        \"min\": -1,\n        \"max\": 1,\n        \"num_unique_values\": 2,\n        \"samples\": [\n          -1,\n          1\n        ],\n        \"semantic_type\": \"\",\n        \"description\": \"\"\n      }\n    }\n  ]\n}"
            }
          },
          "metadata": {},
          "execution_count": 3
        }
      ]
    },
    {
      "cell_type": "markdown",
      "source": [
        "\n",
        "\n",
        "> Add blockquote\n",
        "\n",
        "\n",
        "\n",
        "---\n",
        "\n",
        "\n",
        "---\n",
        "\n",
        "\n",
        "**Choosing a random sample of 2000 positive and 2000 negative reviews.**\n",
        "\n",
        "---\n",
        "\n",
        "\n",
        "---\n",
        "\n",
        "\n",
        "\n"
      ],
      "metadata": {
        "id": "qH7bnCy_L9Hc"
      }
    },
    {
      "cell_type": "code",
      "source": [
        "print(df['sentiment'].value_counts())\n",
        "\n",
        "# Impart setul de date dupa sentiment (negativ si pozitiv)\n",
        "df_negative = df[df['sentiment'] == -1]\n",
        "df_positive = df[df['sentiment'] == 1]\n",
        "\n",
        "min_samples = 2000\n",
        "\n",
        "# Selectam random 2000 de exemple din fiecare sentiment\n",
        "df_negative_sampled = df_negative.sample(n=min_samples)\n",
        "df_positive_sampled = df_positive.sample(n=min_samples)\n",
        "\n",
        "# Le combinam intr-un singur dataframe\n",
        "df_sampled = pd.concat([df_negative_sampled, df_positive_sampled])\n",
        "\n",
        "# Amestecam randurile\n",
        "df_sampled = df_sampled.sample(frac=1).reset_index(drop=True)\n",
        "\n",
        "print(df_sampled['sentiment'].value_counts())\n",
        "\n",
        "df_sampled\n"
      ],
      "metadata": {
        "colab": {
          "base_uri": "https://localhost:8080/",
          "height": 563
        },
        "id": "Ek9YHFGbn06n",
        "outputId": "6301b5c5-659f-40c0-b6d4-a899bf68b3ff"
      },
      "execution_count": 4,
      "outputs": [
        {
          "output_type": "stream",
          "name": "stdout",
          "text": [
            "sentiment\n",
            " 1    25000\n",
            "-1    25000\n",
            "Name: count, dtype: int64\n",
            "sentiment\n",
            " 1    2000\n",
            "-1    2000\n",
            "Name: count, dtype: int64\n"
          ]
        },
        {
          "output_type": "execute_result",
          "data": {
            "text/plain": [
              "                                                   text  sentiment\n",
              "0     I saw this film on TV many years ago and I saw...          1\n",
              "1     Nell Shipman must have been paid a hefty sum o...         -1\n",
              "2     BABY FACE is a fast paced, wise cracking, know...          1\n",
              "3     I was fortunate enough to catch this film at t...          1\n",
              "4     Everyone wants Duvall and Jones back, come on!...          1\n",
              "...                                                 ...        ...\n",
              "3995  Somewhere in his non-fiction book DANSE MACABR...         -1\n",
              "3996  GoldenEye is a masterpiece. The storyline is a...          1\n",
              "3997  Chances are, you'll think this movie is incred...          1\n",
              "3998  I saw a trailer for this on Afro Promo, the co...          1\n",
              "3999  Woaww Is it only now that you notice the links...          1\n",
              "\n",
              "[4000 rows x 2 columns]"
            ],
            "text/html": [
              "\n",
              "  <div id=\"df-00ea0dae-3414-4358-9bbb-28a7c3a355b0\" class=\"colab-df-container\">\n",
              "    <div>\n",
              "<style scoped>\n",
              "    .dataframe tbody tr th:only-of-type {\n",
              "        vertical-align: middle;\n",
              "    }\n",
              "\n",
              "    .dataframe tbody tr th {\n",
              "        vertical-align: top;\n",
              "    }\n",
              "\n",
              "    .dataframe thead th {\n",
              "        text-align: right;\n",
              "    }\n",
              "</style>\n",
              "<table border=\"1\" class=\"dataframe\">\n",
              "  <thead>\n",
              "    <tr style=\"text-align: right;\">\n",
              "      <th></th>\n",
              "      <th>text</th>\n",
              "      <th>sentiment</th>\n",
              "    </tr>\n",
              "  </thead>\n",
              "  <tbody>\n",
              "    <tr>\n",
              "      <th>0</th>\n",
              "      <td>I saw this film on TV many years ago and I saw...</td>\n",
              "      <td>1</td>\n",
              "    </tr>\n",
              "    <tr>\n",
              "      <th>1</th>\n",
              "      <td>Nell Shipman must have been paid a hefty sum o...</td>\n",
              "      <td>-1</td>\n",
              "    </tr>\n",
              "    <tr>\n",
              "      <th>2</th>\n",
              "      <td>BABY FACE is a fast paced, wise cracking, know...</td>\n",
              "      <td>1</td>\n",
              "    </tr>\n",
              "    <tr>\n",
              "      <th>3</th>\n",
              "      <td>I was fortunate enough to catch this film at t...</td>\n",
              "      <td>1</td>\n",
              "    </tr>\n",
              "    <tr>\n",
              "      <th>4</th>\n",
              "      <td>Everyone wants Duvall and Jones back, come on!...</td>\n",
              "      <td>1</td>\n",
              "    </tr>\n",
              "    <tr>\n",
              "      <th>...</th>\n",
              "      <td>...</td>\n",
              "      <td>...</td>\n",
              "    </tr>\n",
              "    <tr>\n",
              "      <th>3995</th>\n",
              "      <td>Somewhere in his non-fiction book DANSE MACABR...</td>\n",
              "      <td>-1</td>\n",
              "    </tr>\n",
              "    <tr>\n",
              "      <th>3996</th>\n",
              "      <td>GoldenEye is a masterpiece. The storyline is a...</td>\n",
              "      <td>1</td>\n",
              "    </tr>\n",
              "    <tr>\n",
              "      <th>3997</th>\n",
              "      <td>Chances are, you'll think this movie is incred...</td>\n",
              "      <td>1</td>\n",
              "    </tr>\n",
              "    <tr>\n",
              "      <th>3998</th>\n",
              "      <td>I saw a trailer for this on Afro Promo, the co...</td>\n",
              "      <td>1</td>\n",
              "    </tr>\n",
              "    <tr>\n",
              "      <th>3999</th>\n",
              "      <td>Woaww Is it only now that you notice the links...</td>\n",
              "      <td>1</td>\n",
              "    </tr>\n",
              "  </tbody>\n",
              "</table>\n",
              "<p>4000 rows × 2 columns</p>\n",
              "</div>\n",
              "    <div class=\"colab-df-buttons\">\n",
              "\n",
              "  <div class=\"colab-df-container\">\n",
              "    <button class=\"colab-df-convert\" onclick=\"convertToInteractive('df-00ea0dae-3414-4358-9bbb-28a7c3a355b0')\"\n",
              "            title=\"Convert this dataframe to an interactive table.\"\n",
              "            style=\"display:none;\">\n",
              "\n",
              "  <svg xmlns=\"http://www.w3.org/2000/svg\" height=\"24px\" viewBox=\"0 -960 960 960\">\n",
              "    <path d=\"M120-120v-720h720v720H120Zm60-500h600v-160H180v160Zm220 220h160v-160H400v160Zm0 220h160v-160H400v160ZM180-400h160v-160H180v160Zm440 0h160v-160H620v160ZM180-180h160v-160H180v160Zm440 0h160v-160H620v160Z\"/>\n",
              "  </svg>\n",
              "    </button>\n",
              "\n",
              "  <style>\n",
              "    .colab-df-container {\n",
              "      display:flex;\n",
              "      gap: 12px;\n",
              "    }\n",
              "\n",
              "    .colab-df-convert {\n",
              "      background-color: #E8F0FE;\n",
              "      border: none;\n",
              "      border-radius: 50%;\n",
              "      cursor: pointer;\n",
              "      display: none;\n",
              "      fill: #1967D2;\n",
              "      height: 32px;\n",
              "      padding: 0 0 0 0;\n",
              "      width: 32px;\n",
              "    }\n",
              "\n",
              "    .colab-df-convert:hover {\n",
              "      background-color: #E2EBFA;\n",
              "      box-shadow: 0px 1px 2px rgba(60, 64, 67, 0.3), 0px 1px 3px 1px rgba(60, 64, 67, 0.15);\n",
              "      fill: #174EA6;\n",
              "    }\n",
              "\n",
              "    .colab-df-buttons div {\n",
              "      margin-bottom: 4px;\n",
              "    }\n",
              "\n",
              "    [theme=dark] .colab-df-convert {\n",
              "      background-color: #3B4455;\n",
              "      fill: #D2E3FC;\n",
              "    }\n",
              "\n",
              "    [theme=dark] .colab-df-convert:hover {\n",
              "      background-color: #434B5C;\n",
              "      box-shadow: 0px 1px 3px 1px rgba(0, 0, 0, 0.15);\n",
              "      filter: drop-shadow(0px 1px 2px rgba(0, 0, 0, 0.3));\n",
              "      fill: #FFFFFF;\n",
              "    }\n",
              "  </style>\n",
              "\n",
              "    <script>\n",
              "      const buttonEl =\n",
              "        document.querySelector('#df-00ea0dae-3414-4358-9bbb-28a7c3a355b0 button.colab-df-convert');\n",
              "      buttonEl.style.display =\n",
              "        google.colab.kernel.accessAllowed ? 'block' : 'none';\n",
              "\n",
              "      async function convertToInteractive(key) {\n",
              "        const element = document.querySelector('#df-00ea0dae-3414-4358-9bbb-28a7c3a355b0');\n",
              "        const dataTable =\n",
              "          await google.colab.kernel.invokeFunction('convertToInteractive',\n",
              "                                                    [key], {});\n",
              "        if (!dataTable) return;\n",
              "\n",
              "        const docLinkHtml = 'Like what you see? Visit the ' +\n",
              "          '<a target=\"_blank\" href=https://colab.research.google.com/notebooks/data_table.ipynb>data table notebook</a>'\n",
              "          + ' to learn more about interactive tables.';\n",
              "        element.innerHTML = '';\n",
              "        dataTable['output_type'] = 'display_data';\n",
              "        await google.colab.output.renderOutput(dataTable, element);\n",
              "        const docLink = document.createElement('div');\n",
              "        docLink.innerHTML = docLinkHtml;\n",
              "        element.appendChild(docLink);\n",
              "      }\n",
              "    </script>\n",
              "  </div>\n",
              "\n",
              "\n",
              "    <div id=\"df-93a2e4b9-7acc-4cab-a161-1ddc4da830be\">\n",
              "      <button class=\"colab-df-quickchart\" onclick=\"quickchart('df-93a2e4b9-7acc-4cab-a161-1ddc4da830be')\"\n",
              "                title=\"Suggest charts\"\n",
              "                style=\"display:none;\">\n",
              "\n",
              "<svg xmlns=\"http://www.w3.org/2000/svg\" height=\"24px\"viewBox=\"0 0 24 24\"\n",
              "     width=\"24px\">\n",
              "    <g>\n",
              "        <path d=\"M19 3H5c-1.1 0-2 .9-2 2v14c0 1.1.9 2 2 2h14c1.1 0 2-.9 2-2V5c0-1.1-.9-2-2-2zM9 17H7v-7h2v7zm4 0h-2V7h2v10zm4 0h-2v-4h2v4z\"/>\n",
              "    </g>\n",
              "</svg>\n",
              "      </button>\n",
              "\n",
              "<style>\n",
              "  .colab-df-quickchart {\n",
              "      --bg-color: #E8F0FE;\n",
              "      --fill-color: #1967D2;\n",
              "      --hover-bg-color: #E2EBFA;\n",
              "      --hover-fill-color: #174EA6;\n",
              "      --disabled-fill-color: #AAA;\n",
              "      --disabled-bg-color: #DDD;\n",
              "  }\n",
              "\n",
              "  [theme=dark] .colab-df-quickchart {\n",
              "      --bg-color: #3B4455;\n",
              "      --fill-color: #D2E3FC;\n",
              "      --hover-bg-color: #434B5C;\n",
              "      --hover-fill-color: #FFFFFF;\n",
              "      --disabled-bg-color: #3B4455;\n",
              "      --disabled-fill-color: #666;\n",
              "  }\n",
              "\n",
              "  .colab-df-quickchart {\n",
              "    background-color: var(--bg-color);\n",
              "    border: none;\n",
              "    border-radius: 50%;\n",
              "    cursor: pointer;\n",
              "    display: none;\n",
              "    fill: var(--fill-color);\n",
              "    height: 32px;\n",
              "    padding: 0;\n",
              "    width: 32px;\n",
              "  }\n",
              "\n",
              "  .colab-df-quickchart:hover {\n",
              "    background-color: var(--hover-bg-color);\n",
              "    box-shadow: 0 1px 2px rgba(60, 64, 67, 0.3), 0 1px 3px 1px rgba(60, 64, 67, 0.15);\n",
              "    fill: var(--button-hover-fill-color);\n",
              "  }\n",
              "\n",
              "  .colab-df-quickchart-complete:disabled,\n",
              "  .colab-df-quickchart-complete:disabled:hover {\n",
              "    background-color: var(--disabled-bg-color);\n",
              "    fill: var(--disabled-fill-color);\n",
              "    box-shadow: none;\n",
              "  }\n",
              "\n",
              "  .colab-df-spinner {\n",
              "    border: 2px solid var(--fill-color);\n",
              "    border-color: transparent;\n",
              "    border-bottom-color: var(--fill-color);\n",
              "    animation:\n",
              "      spin 1s steps(1) infinite;\n",
              "  }\n",
              "\n",
              "  @keyframes spin {\n",
              "    0% {\n",
              "      border-color: transparent;\n",
              "      border-bottom-color: var(--fill-color);\n",
              "      border-left-color: var(--fill-color);\n",
              "    }\n",
              "    20% {\n",
              "      border-color: transparent;\n",
              "      border-left-color: var(--fill-color);\n",
              "      border-top-color: var(--fill-color);\n",
              "    }\n",
              "    30% {\n",
              "      border-color: transparent;\n",
              "      border-left-color: var(--fill-color);\n",
              "      border-top-color: var(--fill-color);\n",
              "      border-right-color: var(--fill-color);\n",
              "    }\n",
              "    40% {\n",
              "      border-color: transparent;\n",
              "      border-right-color: var(--fill-color);\n",
              "      border-top-color: var(--fill-color);\n",
              "    }\n",
              "    60% {\n",
              "      border-color: transparent;\n",
              "      border-right-color: var(--fill-color);\n",
              "    }\n",
              "    80% {\n",
              "      border-color: transparent;\n",
              "      border-right-color: var(--fill-color);\n",
              "      border-bottom-color: var(--fill-color);\n",
              "    }\n",
              "    90% {\n",
              "      border-color: transparent;\n",
              "      border-bottom-color: var(--fill-color);\n",
              "    }\n",
              "  }\n",
              "</style>\n",
              "\n",
              "      <script>\n",
              "        async function quickchart(key) {\n",
              "          const quickchartButtonEl =\n",
              "            document.querySelector('#' + key + ' button');\n",
              "          quickchartButtonEl.disabled = true;  // To prevent multiple clicks.\n",
              "          quickchartButtonEl.classList.add('colab-df-spinner');\n",
              "          try {\n",
              "            const charts = await google.colab.kernel.invokeFunction(\n",
              "                'suggestCharts', [key], {});\n",
              "          } catch (error) {\n",
              "            console.error('Error during call to suggestCharts:', error);\n",
              "          }\n",
              "          quickchartButtonEl.classList.remove('colab-df-spinner');\n",
              "          quickchartButtonEl.classList.add('colab-df-quickchart-complete');\n",
              "        }\n",
              "        (() => {\n",
              "          let quickchartButtonEl =\n",
              "            document.querySelector('#df-93a2e4b9-7acc-4cab-a161-1ddc4da830be button');\n",
              "          quickchartButtonEl.style.display =\n",
              "            google.colab.kernel.accessAllowed ? 'block' : 'none';\n",
              "        })();\n",
              "      </script>\n",
              "    </div>\n",
              "\n",
              "  <div id=\"id_7a682bdf-6fd8-48ac-92f7-b710aca79569\">\n",
              "    <style>\n",
              "      .colab-df-generate {\n",
              "        background-color: #E8F0FE;\n",
              "        border: none;\n",
              "        border-radius: 50%;\n",
              "        cursor: pointer;\n",
              "        display: none;\n",
              "        fill: #1967D2;\n",
              "        height: 32px;\n",
              "        padding: 0 0 0 0;\n",
              "        width: 32px;\n",
              "      }\n",
              "\n",
              "      .colab-df-generate:hover {\n",
              "        background-color: #E2EBFA;\n",
              "        box-shadow: 0px 1px 2px rgba(60, 64, 67, 0.3), 0px 1px 3px 1px rgba(60, 64, 67, 0.15);\n",
              "        fill: #174EA6;\n",
              "      }\n",
              "\n",
              "      [theme=dark] .colab-df-generate {\n",
              "        background-color: #3B4455;\n",
              "        fill: #D2E3FC;\n",
              "      }\n",
              "\n",
              "      [theme=dark] .colab-df-generate:hover {\n",
              "        background-color: #434B5C;\n",
              "        box-shadow: 0px 1px 3px 1px rgba(0, 0, 0, 0.15);\n",
              "        filter: drop-shadow(0px 1px 2px rgba(0, 0, 0, 0.3));\n",
              "        fill: #FFFFFF;\n",
              "      }\n",
              "    </style>\n",
              "    <button class=\"colab-df-generate\" onclick=\"generateWithVariable('df_sampled')\"\n",
              "            title=\"Generate code using this dataframe.\"\n",
              "            style=\"display:none;\">\n",
              "\n",
              "  <svg xmlns=\"http://www.w3.org/2000/svg\" height=\"24px\"viewBox=\"0 0 24 24\"\n",
              "       width=\"24px\">\n",
              "    <path d=\"M7,19H8.4L18.45,9,17,7.55,7,17.6ZM5,21V16.75L18.45,3.32a2,2,0,0,1,2.83,0l1.4,1.43a1.91,1.91,0,0,1,.58,1.4,1.91,1.91,0,0,1-.58,1.4L9.25,21ZM18.45,9,17,7.55Zm-12,3A5.31,5.31,0,0,0,4.9,8.1,5.31,5.31,0,0,0,1,6.5,5.31,5.31,0,0,0,4.9,4.9,5.31,5.31,0,0,0,6.5,1,5.31,5.31,0,0,0,8.1,4.9,5.31,5.31,0,0,0,12,6.5,5.46,5.46,0,0,0,6.5,12Z\"/>\n",
              "  </svg>\n",
              "    </button>\n",
              "    <script>\n",
              "      (() => {\n",
              "      const buttonEl =\n",
              "        document.querySelector('#id_7a682bdf-6fd8-48ac-92f7-b710aca79569 button.colab-df-generate');\n",
              "      buttonEl.style.display =\n",
              "        google.colab.kernel.accessAllowed ? 'block' : 'none';\n",
              "\n",
              "      buttonEl.onclick = () => {\n",
              "        google.colab.notebook.generateWithVariable('df_sampled');\n",
              "      }\n",
              "      })();\n",
              "    </script>\n",
              "  </div>\n",
              "\n",
              "    </div>\n",
              "  </div>\n"
            ],
            "application/vnd.google.colaboratory.intrinsic+json": {
              "type": "dataframe",
              "variable_name": "df_sampled",
              "summary": "{\n  \"name\": \"df_sampled\",\n  \"rows\": 4000,\n  \"fields\": [\n    {\n      \"column\": \"text\",\n      \"properties\": {\n        \"dtype\": \"string\",\n        \"num_unique_values\": 3997,\n        \"samples\": [\n          \"It's out of question that the real Anna Anderson was NOT Princess Anastasia. Apart from very distinctive differences in physical appearance(Anderson's eyes are perceivably larger, lips thicker, nose larger and turned up at the end....etc), Anderson's unable to speak Russian was a ridiculous tell......That's why I detest Anna Anderson and her confederates so much. Not a lot of swindlers have the audacity and endurance to scam for 60+ years with such a blatantly untenable scheme.<br /><br />Yet to some extent I have sympathy for Anna Anderson. Life must have been hard for a young Polish peasant worker in those days. And to impersonate another woman for 60+ years is an arduous task for anybody.She had to hold back her fleshy lips all the time to mimic the thin lips of Anastasia's, and had to occasionally go lunatic to make people believe all her chaotic memory was just a result of mental problem.<br /><br />Anna Anderson was an awesome woman on a wrong track. Had she put her good-looks, learned elegance, endurance, acting skills into proper use, she could of made a first-class actress.<br /><br />On a side note: Some main characters of this two-parter seem to be loosely based on real figures. Prince Erich could be a mixture of Gleb Botkin(believed by many the most possible brain behind the whole scheme), Duke George and Dmitri of Leuchtenberg, and several other figures. And Darya Romanoff seem to be based on the gorgeous Princess Xenia Georgievna Romanova. But unlike the real confederates, Prince Erich was motiveless in this show and supported Anna out of love for and sincere belief in her, which is touching.<br /><br />On the whole this is a great show. Fictionalised a bit but still remains faithful to the reality. The power of Amy Irving's acting lies in that she successfully represented Anderson's self-assuredness, the mixture of impersonating others and being herself is intriguing. Just as Princess Xenia said about Anderson:\\\"She was herself at all times and never gave the slightest impression of acting a part.\\\" Highly recommended.\",\n          \"It's very funny. It has a great cast who each give great performances. Especially Sally Field and Kevin Kline. It's a well written screenplay by Andrew Bergman (Honeymoon In Vegas). I don't like soap operas, even though I never watch them. But I do love this film because it's so crazy and off the wall, that it beats the hell out of any stupid soap that they have on daytime television. In my opinion, it's the best film of 1991.\",\n          \"This takes place on Fire Island back in the 1970s. A couple Peter (Craig Dudley) and Buddy (J. Will Deane) are throwing a 4th of July party at their house. Unfortunately their relationship is falling apart and they have to get ready for a house full of very strange guests. The rest of the movie chronicles the party and what happens between Peter and Buddy.<br /><br />OK--I'm a gay man but I was 8 back when this was made. If this is a true view of what gay life was in the 1970s, I'm glad I wasn't around. From the puzzling opening credits which shows kids playing in the sand (???) this movie slides slowly into disaster. There's a guru (Robert Case) who talks nonstop about nothing of any importance. I wanted to gag the guy halfway into his first LONG speech. There's the young kid Danny who is there for his first time. There's the lesbian couple (who do nothing--except one strips for no reason). There's the leather queen. Worst of all is the effeminate man named Jimmy (Jimmy Foster). We're introduced to him and his friend (whose name I never got) when they get a flat tire. They basically scream and screech for 10 minutes and have NO idea how to fix a flat. I know some people find this funny but I found it offensive and pretty sad. The party itself is full of people you would never want to know. It's like being dumped in a party full of bad actors playing obnoxious people. With the sole exception of Dudley no one can act.<br /><br />This may be valuable as a portrait of what Fire Island was like in the 1970s...but it's pretty dull viewing. This gets a 2 only for the frequent male nudity of some very nice bodies.\"\n        ],\n        \"semantic_type\": \"\",\n        \"description\": \"\"\n      }\n    },\n    {\n      \"column\": \"sentiment\",\n      \"properties\": {\n        \"dtype\": \"number\",\n        \"std\": 1,\n        \"min\": -1,\n        \"max\": 1,\n        \"num_unique_values\": 2,\n        \"samples\": [\n          -1,\n          1\n        ],\n        \"semantic_type\": \"\",\n        \"description\": \"\"\n      }\n    }\n  ]\n}"
            }
          },
          "metadata": {},
          "execution_count": 4
        }
      ]
    },
    {
      "cell_type": "markdown",
      "source": [
        "\n",
        "\n",
        "---\n",
        "\n",
        "\n",
        "\n",
        "---\n",
        "**Analiza setului de date**\n",
        "\n",
        "\n",
        "---\n",
        "\n",
        "\n",
        "\n",
        "---\n",
        "\n",
        "\n"
      ],
      "metadata": {
        "id": "HqKP5rb5Su-j"
      }
    },
    {
      "cell_type": "code",
      "source": [
        "label_map = {-1: \"negativ\", 1: \"pozitiv\"}\n",
        "sentiment_counts = df[\"sentiment\"].value_counts().sort_index()\n",
        "sentiment_counts.index = sentiment_counts.index.map(label_map)\n",
        "sentiment_counts.plot(kind=\"bar\", color=[\"red\", \"green\"])"
      ],
      "metadata": {
        "colab": {
          "base_uri": "https://localhost:8080/",
          "height": 505
        },
        "id": "WcuaKttFSzw-",
        "outputId": "a4f5a9df-2917-49f1-9be8-2d748c841201"
      },
      "execution_count": 5,
      "outputs": [
        {
          "output_type": "execute_result",
          "data": {
            "text/plain": [
              "<Axes: xlabel='sentiment'>"
            ]
          },
          "metadata": {},
          "execution_count": 5
        },
        {
          "output_type": "display_data",
          "data": {
            "text/plain": [
              "<Figure size 640x480 with 1 Axes>"
            ],
            "image/png": "[encoded data removed]"
          },
          "metadata": {}
        }
      ]
    },
    {
      "cell_type": "code",
      "source": [
        "import seaborn as sns\n",
        "\n",
        "review_len = pd.Series([len(review.split()) for review in df['text']])\n",
        "\n",
        "fig = plt.figure(figsize=(14,7))\n",
        "df['length'] = df.text.str.split().apply(len)\n",
        "ax1 = fig.add_subplot(122)\n",
        "sns.histplot(df[df['sentiment']==1]['length'], ax=ax1,color='magenta')\n",
        "describe = df.length[df.sentiment==1].describe().to_frame().round(2)\n",
        "\n",
        "ax2 = fig.add_subplot(121)\n",
        "ax2.axis('off')\n",
        "font_size = 14\n",
        "bbox = [0, 0, 1, 1]\n",
        "table = ax2.table(cellText = describe.values, rowLabels = describe.index, bbox=bbox, colLabels=describe.columns)\n",
        "table.set_fontsize(font_size)\n",
        "fig.suptitle('Distribution of text length for positive sentiment reviews.', fontsize=16)\n",
        "\n",
        "plt.show()"
      ],
      "metadata": {
        "colab": {
          "base_uri": "https://localhost:8080/",
          "height": 689
        },
        "id": "sscTR7WlS5IJ",
        "outputId": "d8f328fd-2622-4041-fb65-f55106529d88"
      },
      "execution_count": 6,
      "outputs": [
        {
          "output_type": "display_data",
          "data": {
            "text/plain": [
              "<Figure size 1400x700 with 2 Axes>"
            ],
            "image/png": "[encoded data removed]"
          },
          "metadata": {}
        }
      ]
    },
    {
      "cell_type": "code",
      "source": [
        "fig = plt.figure(figsize=(14,7))\n",
        "df['length'] = df.text.str.split().apply(len)\n",
        "ax1 = fig.add_subplot(122)\n",
        "sns.histplot(df[df['sentiment']==-1]['length'], ax=ax1,color='magenta')\n",
        "describe = df.length[df.sentiment==-1].describe().to_frame().round(2)\n",
        "\n",
        "ax2 = fig.add_subplot(121)\n",
        "ax2.axis('off')\n",
        "font_size = 14\n",
        "bbox = [0, 0, 1, 1]\n",
        "table = ax2.table(cellText = describe.values, rowLabels = describe.index, bbox=bbox, colLabels=describe.columns)\n",
        "table.set_fontsize(font_size)\n",
        "fig.suptitle('Distribution of text length for negative sentiment reviews.', fontsize=16)\n",
        "\n",
        "plt.show()"
      ],
      "metadata": {
        "colab": {
          "base_uri": "https://localhost:8080/",
          "height": 689
        },
        "id": "dFr0l6g4S8ko",
        "outputId": "8a337763-26f9-42d9-c4f0-0b1d372fdc28"
      },
      "execution_count": 7,
      "outputs": [
        {
          "output_type": "display_data",
          "data": {
            "text/plain": [
              "<Figure size 1400x700 with 2 Axes>"
            ],
            "image/png": "[encoded data removed]"
          },
          "metadata": {}
        }
      ]
    },
    {
      "cell_type": "markdown",
      "source": [
        "\n",
        "\n",
        "---\n",
        "\n",
        "\n",
        "\n",
        "---\n",
        "\n",
        "\n",
        "**TF_IDF vectorization and logistic regression**\n",
        "\n",
        "\n",
        "---\n",
        "\n",
        "\n",
        "\n",
        "---\n",
        "\n"
      ],
      "metadata": {
        "id": "l50iH-t_4WoQ"
      }
    },
    {
      "cell_type": "code",
      "source": [
        "# loading the spacy model for tokenization\n",
        "nlp = spacy.load(\"en_core_web_sm\")\n",
        "\n",
        "lemmatizer = WordNetLemmatizer()\n",
        "\n",
        "# list of common negations (we wish to keep them)\n",
        "negations = {\"not\", \"no\", \"n't\", \"isn't\", \"aren't\", \"won't\", \"can't\", \"never\", \"nothing\"}\n",
        "\n",
        "def review_to_words(review):\n",
        "\n",
        "    # removing HTML tags and hashtags\n",
        "    review = re.sub(r\"<.*?>\", \" \", review)\n",
        "    review = re.sub(r\"(@[A-Za-z0-9_]+)|(#\\S+)\", \" \", review)\n",
        "\n",
        "    doc = nlp(review.lower())\n",
        "\n",
        "    clean_tokens = []\n",
        "    for token in doc:\n",
        "        # removing punctuation, spaces and stopwords (excluding negations)\n",
        "        if token.is_punct or token.is_space:\n",
        "            continue\n",
        "        if token.is_stop and token.text not in negations:\n",
        "            continue\n",
        "        # lematizare\n",
        "        clean_tokens.append(token.lemma_)\n",
        "\n",
        "    return clean_tokens\n",
        "\n",
        "df_sampled['processed_text'] = df_sampled['text'].apply(review_to_words)\n",
        "\n",
        "# checking that preprocessing worked\n",
        "print(df_sampled[['text', 'processed_text']].head())\n",
        "\n",
        "#transforming tokens into strings\n",
        "df_sampled['processed_text'] = df_sampled['processed_text'].apply(lambda tokens: ' '.join(tokens))\n",
        "\n",
        "#splitting the dataset\n",
        "X_text_train, X_text_test, y_train, y_test = train_test_split(df_sampled['processed_text'], df_sampled['sentiment'], test_size=0.3)\n",
        "\n",
        "# vectorization of X_train and X_test\n",
        "vectorizer = TfidfVectorizer(max_features=5000, ngram_range=(1, 2))\n",
        "X_train = vectorizer.fit_transform(X_text_train)\n",
        "\n",
        "X_test = vectorizer.transform(X_text_test)\n",
        "\n",
        "# training the Logistic Regression model\n",
        "model = LogisticRegression(max_iter=1000, class_weight='balanced', C=1.0)\n",
        "model.fit(X_train, y_train)\n",
        "\n",
        "# predictions and evaluation\n",
        "y_pred_lr = model.predict(X_test)\n",
        "y_true_lr = y_test\n",
        "print(\"Accuracy:\", accuracy_score(y_test, y_pred_lr))\n",
        "print(\"\\nClassification Report:\\n\", classification_report(y_test, y_pred_lr))"
      ],
      "metadata": {
        "colab": {
          "base_uri": "https://localhost:8080/"
        },
        "id": "GF_kyqXToY9q",
        "outputId": "8d6aebd3-e773-4caf-930f-aadc4cba8ee6"
      },
      "execution_count": 8,
      "outputs": [
        {
          "output_type": "stream",
          "name": "stdout",
          "text": [
            "                                                text  \\\n",
            "0  I saw this film on TV many years ago and I saw...   \n",
            "1  Nell Shipman must have been paid a hefty sum o...   \n",
            "2  BABY FACE is a fast paced, wise cracking, know...   \n",
            "3  I was fortunate enough to catch this film at t...   \n",
            "4  Everyone wants Duvall and Jones back, come on!...   \n",
            "\n",
            "                                      processed_text  \n",
            "0  [see, film, tv, year, ago, see, film, get, tap...  \n",
            "1  [nell, shipman, pay, hefty, sum, money, promot...  \n",
            "2  [baby, face, fast, pace, wise, cracking, know,...  \n",
            "3  [fortunate, catch, film, phoenix, film, festiv...  \n",
            "4  [want, duvall, jones, come, viewer, say, thing...  \n",
            "Accuracy: 0.8633333333333333\n",
            "\n",
            "Classification Report:\n",
            "               precision    recall  f1-score   support\n",
            "\n",
            "          -1       0.90      0.82      0.86       619\n",
            "           1       0.83      0.91      0.87       581\n",
            "\n",
            "    accuracy                           0.86      1200\n",
            "   macro avg       0.87      0.86      0.86      1200\n",
            "weighted avg       0.87      0.86      0.86      1200\n",
            "\n"
          ]
        }
      ]
    },
    {
      "cell_type": "markdown",
      "source": [
        "\n",
        "\n",
        "---\n",
        "\n",
        "\n",
        "\n",
        "---\n",
        "\n",
        "\n",
        "\n",
        "**Verifying a new review.**\n",
        "\n",
        "\n",
        "---\n",
        "\n",
        "\n",
        "\n",
        "---\n",
        "\n"
      ],
      "metadata": {
        "id": "_eW513MKhLo0"
      }
    },
    {
      "cell_type": "code",
      "source": [
        "new_text = \"I did not enjoy this movie\"\n",
        "print(f\"The review is: {new_text}\")\n",
        "tokens = review_to_words(new_text)\n",
        "prop = ' '.join(tokens)\n",
        "\n",
        "X_new = vectorizer.transform([prop])\n",
        "\n",
        "y_pred_new = model.predict(X_new)\n",
        "\n",
        "print(\"Preprocessed review:\", prop)\n",
        "print(\"Prediction for this review:\", y_pred_new)"
      ],
      "metadata": {
        "id": "cpwZDsm3hLav",
        "colab": {
          "base_uri": "https://localhost:8080/"
        },
        "outputId": "0edaf083-915d-4363-b79c-ef739d37d42f"
      },
      "execution_count": 9,
      "outputs": [
        {
          "output_type": "stream",
          "name": "stdout",
          "text": [
            "The review is: I did not enjoy this movie\n",
            "Preprocessed review: not enjoy movie\n",
            "Prediction for this review: [1]\n"
          ]
        }
      ]
    },
    {
      "cell_type": "markdown",
      "source": [
        "\n",
        "\n",
        "---\n",
        "\n",
        "False positives and false negatives\n",
        "\n",
        "\n",
        "---\n",
        "\n"
      ],
      "metadata": {
        "id": "8nvfWeTG4uSy"
      }
    },
    {
      "cell_type": "code",
      "source": [
        "# resetting the index to match X_test\n",
        "df_test = df_sampled.iloc[y_test.index].copy()\n",
        "df_test[\"true_label\"] = y_test.values\n",
        "df_test[\"predicted_label\"] = y_pred_lr\n",
        "\n",
        "# false positives:\n",
        "false_positives = df_test[(df_test[\"true_label\"] == -1) & (df_test[\"predicted_label\"] == 1)]\n",
        "\n",
        "# false negatives:\n",
        "false_negatives = df_test[(df_test[\"true_label\"] == 1) & (df_test[\"predicted_label\"] == -1)]\n",
        "\n",
        "# printing a few examples\n",
        "print(\"FALSE POSITIVES (predicted 1, true -1):\")\n",
        "print(false_positives[[\"text\", \"true_label\", \"predicted_label\"]].head(5))\n",
        "\n",
        "print(\"\\nFALSE NEGATIVES (predicted -1, true 1):\")\n",
        "print(false_negatives[[\"text\", \"true_label\", \"predicted_label\"]].head(5))\n",
        "#pd.set_option(\"display.max_colwidth\", None)"
      ],
      "metadata": {
        "id": "MgYG9nCpwsVs",
        "colab": {
          "base_uri": "https://localhost:8080/"
        },
        "outputId": "7e14a9d6-f437-4326-bc1f-c7d28acb6437"
      },
      "execution_count": 10,
      "outputs": [
        {
          "output_type": "stream",
          "name": "stdout",
          "text": [
            "FALSE POSITIVES (predicted 1, true -1):\n",
            "                                                   text  true_label  \\\n",
            "1637  The Twilight Zone has achieved a certain mytho...          -1   \n",
            "3710  Yes.A real stinker. I saw this movie on the ad...          -1   \n",
            "625   My tolerance for shlocky direction was overwhe...          -1   \n",
            "566   The most horrible retelling of a great series....          -1   \n",
            "2471  Nobody, but nobody, could chew the scenery lik...          -1   \n",
            "\n",
            "      predicted_label  \n",
            "1637                1  \n",
            "3710                1  \n",
            "625                 1  \n",
            "566                 1  \n",
            "2471                1  \n",
            "\n",
            "FALSE NEGATIVES (predicted -1, true 1):\n",
            "                                                   text  true_label  \\\n",
            "3640  Saw this movie at the Rotterdam IFF. You may q...           1   \n",
            "1694  I found this flick enjoyable and involving to ...           1   \n",
            "3542  ...........as I was when I saw this movie) I w...           1   \n",
            "2369  This is not a good movie but I still like it. ...           1   \n",
            "1680  Tumbling Doll of Flesh (aka Niku daruma and Ps...           1   \n",
            "\n",
            "      predicted_label  \n",
            "3640               -1  \n",
            "1694               -1  \n",
            "3542               -1  \n",
            "2369               -1  \n",
            "1680               -1  \n"
          ]
        }
      ]
    },
    {
      "cell_type": "markdown",
      "source": [
        "Handling negations."
      ],
      "metadata": {
        "id": "ejylAXol04fw"
      }
    },
    {
      "cell_type": "code",
      "source": [
        "lemmatizer = WordNetLemmatizer()\n",
        "nlp = spacy.load(\"en_core_web_sm\")\n",
        "\n",
        "#function that replaces negated words with their antonyms\n",
        "def Negation(sentence):\n",
        "\n",
        "    i = 1\n",
        "    while i < len(sentence):\n",
        "        if sentence[i-1] in ['not', \"n't\"]:\n",
        "            antonyms = []\n",
        "\n",
        "            for syn in wn.synsets(sentence[i]):\n",
        "                for lemma in syn.lemmas():\n",
        "                    if lemma.antonyms():\n",
        "                        antonyms.append(lemma.antonyms()[0].name())\n",
        "\n",
        "            if 'bad' in antonyms:\n",
        "                sentence[i] = 'bad'\n",
        "            elif antonyms:\n",
        "                sentence[i] = antonyms[0]\n",
        "            sentence[i-1] = ''\n",
        "        i += 1\n",
        "\n",
        "    return ' '.join([word for word in sentence if word])\n",
        "\n",
        "df_sampled = df_sampled.drop('processed_text', axis=1)\n",
        "\n",
        "df_sampled['processed_text'] = df_sampled['text'].apply(review_to_words)\n",
        "df_sampled['processed_text'] = df_sampled['processed_text'].apply(Negation)\n",
        "\n",
        "X_text_train, X_text_test, y_train, y_test = train_test_split(df_sampled['processed_text'], df_sampled['sentiment'], test_size=0.3)\n",
        "\n",
        "vectorizer = TfidfVectorizer(max_features=5000, ngram_range=(1, 2))\n",
        "X_train = vectorizer.fit_transform(X_text_train)\n",
        "\n",
        "X_test = vectorizer.transform(X_text_test)\n",
        "\n",
        "# training the new model (that handles negations)\n",
        "model = LogisticRegression(max_iter=1000, class_weight='balanced', C=1.0)\n",
        "model.fit(X_train, y_train)\n",
        "\n",
        "# evaluation\n",
        "y_pred_lr = model.predict(X_test)\n",
        "y_true_lr = y_test\n",
        "print(\"Accuracy:\", accuracy_score(y_test, y_pred_lr))\n",
        "print(\"\\nClassification Report:\\n\", classification_report(y_test, y_pred_lr))"
      ],
      "metadata": {
        "id": "FZBP_4NC04Ry",
        "colab": {
          "base_uri": "https://localhost:8080/"
        },
        "outputId": "50d6d4e8-be8d-44a8-ca93-0d6066d48b9e"
      },
      "execution_count": 11,
      "outputs": [
        {
          "output_type": "stream",
          "name": "stdout",
          "text": [
            "Accuracy: 0.8408333333333333\n",
            "\n",
            "Classification Report:\n",
            "               precision    recall  f1-score   support\n",
            "\n",
            "          -1       0.86      0.81      0.83       590\n",
            "           1       0.82      0.87      0.85       610\n",
            "\n",
            "    accuracy                           0.84      1200\n",
            "   macro avg       0.84      0.84      0.84      1200\n",
            "weighted avg       0.84      0.84      0.84      1200\n",
            "\n"
          ]
        }
      ]
    },
    {
      "cell_type": "markdown",
      "source": [
        "Bag of Words + Logistic Regression"
      ],
      "metadata": {
        "id": "hs5TydoXdfDj"
      }
    },
    {
      "cell_type": "code",
      "source": [
        "from sklearn.feature_extraction.text import CountVectorizer\n",
        "\n",
        "X_text_train_bow, X_text_test_bow, y_train_bow, y_test_bow = train_test_split(df_sampled['processed_text'], df_sampled['sentiment'], test_size=0.3)\n",
        "\n",
        "vectorizer = CountVectorizer(max_features=5000, ngram_range=(1, 2))\n",
        "X_train_bow = vectorizer.fit_transform(X_text_train_bow)\n",
        "\n",
        "X_test_bow = vectorizer.transform(X_text_test_bow)\n",
        "\n",
        "model = LogisticRegression(max_iter=1000, class_weight='balanced', C=1.0)\n",
        "model.fit(X_train_bow, y_train_bow)\n",
        "\n",
        "y_pred_bow = model.predict(X_test_bow)\n",
        "y_true_bow = y_test_bow\n",
        "print(\"Accuracy:\", accuracy_score(y_test_bow, y_pred_bow))\n",
        "print(\"\\nClassification Report:\\n\", classification_report(y_test_bow, y_pred_bow))"
      ],
      "metadata": {
        "id": "0rOtZ_Dxde3G",
        "colab": {
          "base_uri": "https://localhost:8080/"
        },
        "outputId": "e8b10b13-e3cc-4709-dded-e1228eba56d3"
      },
      "execution_count": 12,
      "outputs": [
        {
          "output_type": "stream",
          "name": "stdout",
          "text": [
            "Accuracy: 0.8241666666666667\n",
            "\n",
            "Classification Report:\n",
            "               precision    recall  f1-score   support\n",
            "\n",
            "          -1       0.83      0.81      0.82       587\n",
            "           1       0.82      0.84      0.83       613\n",
            "\n",
            "    accuracy                           0.82      1200\n",
            "   macro avg       0.82      0.82      0.82      1200\n",
            "weighted avg       0.82      0.82      0.82      1200\n",
            "\n"
          ]
        }
      ]
    },
    {
      "cell_type": "markdown",
      "source": [
        "TF-IDF + Naive Bayes"
      ],
      "metadata": {
        "id": "P8Qda6V2ewCY"
      }
    },
    {
      "cell_type": "code",
      "source": [
        "from sklearn.naive_bayes import MultinomialNB\n",
        "\n",
        "X_text_train_nb, X_text_test_nb, y_train_nb, y_test_nb = train_test_split(df_sampled['processed_text'], df_sampled['sentiment'], test_size=0.3)\n",
        "\n",
        "vectorizer = TfidfVectorizer(max_features=5000, ngram_range=(1, 2))\n",
        "X_train_nb = vectorizer.fit_transform(X_text_train_nb)\n",
        "\n",
        "X_test_nb = vectorizer.transform(X_text_test_nb)\n",
        "\n",
        "model = MultinomialNB()\n",
        "model.fit(X_train_nb, y_train_nb)\n",
        "\n",
        "y_pred_nb = model.predict(X_test_nb)\n",
        "y_true_nb = y_test_nb\n",
        "print(\"Accuracy:\", accuracy_score(y_test_nb, y_pred_nb))\n",
        "print(\"\\nClassification Report:\\n\", classification_report(y_test_nb, y_pred_nb))"
      ],
      "metadata": {
        "id": "M743zr3Uev0W",
        "colab": {
          "base_uri": "https://localhost:8080/"
        },
        "outputId": "59cefe86-bf37-46bf-b668-c7aa9f844135"
      },
      "execution_count": 13,
      "outputs": [
        {
          "output_type": "stream",
          "name": "stdout",
          "text": [
            "Accuracy: 0.8533333333333334\n",
            "\n",
            "Classification Report:\n",
            "               precision    recall  f1-score   support\n",
            "\n",
            "          -1       0.86      0.84      0.85       599\n",
            "           1       0.84      0.87      0.86       601\n",
            "\n",
            "    accuracy                           0.85      1200\n",
            "   macro avg       0.85      0.85      0.85      1200\n",
            "weighted avg       0.85      0.85      0.85      1200\n",
            "\n"
          ]
        }
      ]
    },
    {
      "cell_type": "markdown",
      "source": [
        "BoW cu Naive Bayes"
      ],
      "metadata": {
        "id": "jtxt-fv-f6eS"
      }
    },
    {
      "cell_type": "code",
      "source": [
        "X_text_train_nb, X_text_test_nb, y_train_nb, y_test_nb = train_test_split(df_sampled['processed_text'], df_sampled['sentiment'], test_size=0.3)\n",
        "\n",
        "vectorizer = CountVectorizer(max_features=5000, ngram_range=(1, 2))\n",
        "X_train_nb = vectorizer.fit_transform(X_text_train_nb)\n",
        "\n",
        "X_test_nb = vectorizer.transform(X_text_test_nb)\n",
        "\n",
        "model = MultinomialNB()\n",
        "model.fit(X_train_nb, y_train_nb)\n",
        "\n",
        "y_pred_nb = model.predict(X_test_nb)\n",
        "y_true_nb = y_test_nb\n",
        "print(\"Accuracy:\", accuracy_score(y_test_nb, y_pred_nb))\n",
        "print(\"\\nClassification Report:\\n\", classification_report(y_test_nb, y_pred_nb))"
      ],
      "metadata": {
        "id": "efj1sq1Jf6Qc",
        "colab": {
          "base_uri": "https://localhost:8080/"
        },
        "outputId": "63a52b08-5a8a-49de-97f5-84094e82828b"
      },
      "execution_count": 14,
      "outputs": [
        {
          "output_type": "stream",
          "name": "stdout",
          "text": [
            "Accuracy: 0.835\n",
            "\n",
            "Classification Report:\n",
            "               precision    recall  f1-score   support\n",
            "\n",
            "          -1       0.83      0.84      0.83       590\n",
            "           1       0.84      0.83      0.84       610\n",
            "\n",
            "    accuracy                           0.83      1200\n",
            "   macro avg       0.83      0.84      0.83      1200\n",
            "weighted avg       0.84      0.83      0.84      1200\n",
            "\n"
          ]
        }
      ]
    },
    {
      "cell_type": "markdown",
      "source": [
        "\n",
        "\n",
        "---\n",
        "\n",
        "\n",
        "\n",
        "---\n",
        "\n",
        "\n",
        "**Adding a dependency tree derived feature.**\n",
        "\n",
        "\n",
        "---\n",
        "\n",
        "\n",
        "---\n",
        "\n",
        "\n"
      ],
      "metadata": {
        "id": "wTZilUTz4RcV"
      }
    },
    {
      "cell_type": "code",
      "source": [
        "stop_words = set(stopwords.words(\"english\"))\n",
        "lemmatizer = WordNetLemmatizer()\n",
        "nlp = spacy.load(\"en_core_web_sm\")\n",
        "\n",
        "def clean_text(text):\n",
        "    text = BeautifulSoup(text, \"html.parser\").get_text()\n",
        "    text = re.sub(r\"[^a-zA-Z0-9]\", \" \", text)\n",
        "    return text.lower()\n",
        "\n",
        "# we extract SVO triplets\n",
        "def extract_dependency_features(text):\n",
        "    doc = nlp(text)\n",
        "    triples = []\n",
        "    for token in doc:\n",
        "        if token.dep_ == \"ROOT\" and token.pos_ == \"VERB\":\n",
        "            subject = [child for child in token.children if \"subj\" in child.dep_]\n",
        "            obj = [child for child in token.children if \"obj\" in child.dep_ or \"attr\" in child.dep_]\n",
        "            if subject and obj:\n",
        "                s = subject[0].lemma_\n",
        "                v = token.lemma_\n",
        "                o = obj[0].lemma_\n",
        "                triples.append(f\"{s}_{v}_{o}\")\n",
        "\n",
        "    return \" \".join(triples)\n",
        "\n",
        "def preprocess_with_dependencies(text):\n",
        "    text_clean = clean_text(text)\n",
        "    tokens = text_clean.split()\n",
        "    tokens_neg_handled = Negation(tokens)\n",
        "    text_neg_handled = tokens_neg_handled\n",
        "    text_lemmas = [lemmatizer.lemmatize(word) for word in text_neg_handled.split() if word not in stop_words]\n",
        "    triple_features = extract_dependency_features(text_neg_handled)\n",
        "    return \" \".join(text_lemmas) + \" \" + triple_features\n",
        "\n",
        "df_sampled['processed_text_tree'] = df_sampled['text'].apply(preprocess_with_dependencies)\n",
        "\n",
        "X_train, X_test, y_train, y_test = train_test_split(df_sampled['processed_text_tree'], df_sampled['sentiment'], test_size=0.3)\n",
        "\n",
        "vectorizer = TfidfVectorizer(max_features=5000, ngram_range=(1, 2))\n",
        "X_train_vec = vectorizer.fit_transform(X_train)\n",
        "X_test_vec = vectorizer.transform(X_test)\n",
        "\n",
        "model = LogisticRegression(max_iter=1000, class_weight='balanced', C=1.0)\n",
        "model.fit(X_train_vec, y_train)\n",
        "\n",
        "# Predicții și metrice\n",
        "y_pred_tree = model.predict(X_test_vec)\n",
        "y_true_tree=y_test\n",
        "print(\"Accuracy:\", accuracy_score(y_test, y_pred_tree))\n",
        "print(\"\\nClassification Report:\\n\")\n",
        "print(classification_report(y_test, y_pred_tree))"
      ],
      "metadata": {
        "id": "QHtNgCNnAXiL",
        "colab": {
          "base_uri": "https://localhost:8080/"
        },
        "outputId": "ec39a9e2-3be5-4e38-88ec-ddeb622d5861"
      },
      "execution_count": 15,
      "outputs": [
        {
          "output_type": "stream",
          "name": "stdout",
          "text": [
            "Accuracy: 0.845\n",
            "\n",
            "Classification Report:\n",
            "\n",
            "              precision    recall  f1-score   support\n",
            "\n",
            "          -1       0.87      0.81      0.84       599\n",
            "           1       0.82      0.88      0.85       601\n",
            "\n",
            "    accuracy                           0.84      1200\n",
            "   macro avg       0.85      0.84      0.84      1200\n",
            "weighted avg       0.85      0.84      0.84      1200\n",
            "\n"
          ]
        }
      ]
    },
    {
      "cell_type": "code",
      "source": [
        "df_test_tree = df_sampled.iloc[y_test.index].copy()\n",
        "df_test_tree[\"true_label\"] = y_test.values\n",
        "df_test_tree[\"predicted_label\"] = y_pred_tree\n",
        "\n",
        "# False positives\n",
        "false_positives = df_test_tree[(df_test_tree[\"true_label\"] == -1) & (df_test_tree[\"predicted_label\"] == 1)]\n",
        "\n",
        "# False negatives\n",
        "false_negatives = df_test_tree[(df_test_tree[\"true_label\"] == 1) & (df_test_tree[\"predicted_label\"] == -1)]\n",
        "\n",
        "# Printing a few examples\n",
        "print(\"FALSE POSITIVES (predicted 1, true -1):\")\n",
        "print(false_positives[[\"text\", \"true_label\", \"predicted_label\"]].head(5))\n",
        "\n",
        "print(\"\\nFALSE NEGATIVES (predicted -1, true 1):\")\n",
        "print(false_negatives[[\"text\", \"true_label\", \"predicted_label\"]].head(5))"
      ],
      "metadata": {
        "id": "XknMrTRfZh7-",
        "colab": {
          "base_uri": "https://localhost:8080/"
        },
        "outputId": "6dfe16df-be61-4323-d2ee-bf07e600f47f"
      },
      "execution_count": 16,
      "outputs": [
        {
          "output_type": "stream",
          "name": "stdout",
          "text": [
            "FALSE POSITIVES (predicted 1, true -1):\n",
            "                                                   text  true_label  \\\n",
            "3180  Luchino Visconti was and is one of the most in...          -1   \n",
            "1098  Heart of Darkness, a short novel written by Jo...          -1   \n",
            "1977  The plot in Petites Coupures certainly left th...          -1   \n",
            "1712  Don't be fooled by the other reviewers. Althou...          -1   \n",
            "376   'Carolina Moon' is an adequate made-for-TV mov...          -1   \n",
            "\n",
            "      predicted_label  \n",
            "3180                1  \n",
            "1098                1  \n",
            "1977                1  \n",
            "1712                1  \n",
            "376                 1  \n",
            "\n",
            "FALSE NEGATIVES (predicted -1, true 1):\n",
            "                                                   text  true_label  \\\n",
            "3540  -love is hard to find in this fast food societ...           1   \n",
            "2402  A kid with ideals who tries to change things a...           1   \n",
            "1552  What is your freaking problem? Do you have not...           1   \n",
            "3579  I saw this film as it was the second feature o...           1   \n",
            "3727  - SMALL SPOILER HEREIN! - <br /><br />When I l...           1   \n",
            "\n",
            "      predicted_label  \n",
            "3540               -1  \n",
            "2402               -1  \n",
            "1552               -1  \n",
            "3579               -1  \n",
            "3727               -1  \n"
          ]
        }
      ]
    },
    {
      "cell_type": "markdown",
      "source": [
        "\n",
        "\n",
        "---\n",
        "\n",
        "\n",
        "\n",
        "---\n",
        "Transformers\n",
        "\n",
        "\n",
        "---\n",
        "\n",
        "\n",
        "\n",
        "---\n",
        "\n",
        "\n"
      ],
      "metadata": {
        "id": "nVWhrZ6AKmFk"
      }
    },
    {
      "cell_type": "code",
      "source": [
        "!pip uninstall -y transformers\n",
        "!pip install transformers datasets -q\n",
        "from transformers import TrainingArguments\n",
        "import transformers\n",
        "print(transformers.__version__)"
      ],
      "metadata": {
        "id": "s7c65ZSJQ70R",
        "colab": {
          "base_uri": "https://localhost:8080/"
        },
        "outputId": "2261dbbf-5724-4a41-e32b-8d6bdba7965b"
      },
      "execution_count": 17,
      "outputs": [
        {
          "output_type": "stream",
          "name": "stdout",
          "text": [
            "Found existing installation: transformers 4.55.2\n",
            "Uninstalling transformers-4.55.2:\n",
            "  Successfully uninstalled transformers-4.55.2\n",
            "4.55.2\n"
          ]
        }
      ]
    },
    {
      "cell_type": "code",
      "source": [
        "import os\n",
        "import pandas as pd\n",
        "from datasets import Dataset\n",
        "from transformers import BertTokenizer, BertForSequenceClassification, Trainer, TrainingArguments\n",
        "from transformers import DataCollatorWithPadding\n",
        "from sklearn.model_selection import train_test_split\n",
        "from sklearn.metrics import classification_report\n",
        "\n",
        "# desabling wandb (external logging)\n",
        "os.environ[\"WANDB_DISABLED\"] = \"true\"\n",
        "\n",
        "# we need the labels to be 0 and 1\n",
        "df_test_bert = df_sampled.copy()\n",
        "df_test_bert['label'] = df_test_bert['sentiment'].map({-1: 0, 1: 1})\n",
        "\n",
        "# train/test split\n",
        "train_df, test_df = train_test_split(df_test_bert, test_size=0.2, stratify=df_test_bert['label'])\n",
        "\n",
        "train_dataset = Dataset.from_pandas(train_df[['text', 'label']])\n",
        "test_dataset = Dataset.from_pandas(test_df[['text', 'label']])\n",
        "\n",
        "# tokenizer\n",
        "tokenizer = BertTokenizer.from_pretrained(\"bert-base-uncased\")\n",
        "\n",
        "def tokenize_function(example):\n",
        "    return tokenizer(example[\"text\"], truncation=True, padding=True)\n",
        "\n",
        "train_dataset = train_dataset.map(tokenize_function, batched=True)\n",
        "test_dataset = test_dataset.map(tokenize_function, batched=True)\n",
        "\n",
        "# model and data collator\n",
        "model = BertForSequenceClassification.from_pretrained(\"bert-base-uncased\", num_labels=2)\n",
        "data_collator = DataCollatorWithPadding(tokenizer=tokenizer)\n",
        "\n",
        "# hyperparameters\n",
        "training_args = TrainingArguments(\n",
        "    output_dir=\"./results\",\n",
        "    per_device_train_batch_size=16,\n",
        "    per_device_eval_batch_size=16,\n",
        "    num_train_epochs=3,\n",
        "    weight_decay=0.01,\n",
        "    logging_dir=\"./logs\",\n",
        "    logging_steps=10\n",
        ")\n",
        "\n",
        "# trainer\n",
        "trainer = Trainer(\n",
        "    model=model,\n",
        "    args=training_args,\n",
        "    train_dataset=train_dataset,\n",
        "    eval_dataset=test_dataset,\n",
        "    tokenizer=tokenizer,\n",
        "    data_collator=data_collator,\n",
        ")\n",
        "\n",
        "trainer.train()\n",
        "\n",
        "# evaluation\n",
        "preds_output = trainer.predict(test_dataset)\n",
        "y_pred_bert = preds_output.predictions.argmax(-1)\n",
        "y_true_bert = preds_output.label_ids\n",
        "\n",
        "df_test_bert = test_df.copy()\n",
        "\n",
        "df_test_bert[\"true_label\"] = y_true_bert\n",
        "df_test_bert[\"predicted_label\"] = y_pred_bert\n",
        "\n",
        "df_test_bert[\"true_label\"] = df_test_bert[\"true_label\"].map({0: -1, 1: 1})\n",
        "df_test_bert[\"predicted_label\"] = df_test_bert[\"predicted_label\"].map({0: -1, 1: 1})\n",
        "\n",
        "print(\"\\nclassification report:\")\n",
        "print(classification_report(y_true_bert, y_pred_bert, target_names=[\"Negative\", \"Positive\"]))"
      ],
      "metadata": {
        "id": "AElKNH8dP6ex"
      },
      "execution_count": null,
      "outputs": []
    },
    {
      "cell_type": "code",
      "source": [
        "from sklearn.metrics import ConfusionMatrixDisplay\n",
        "import matplotlib.pyplot as plt\n",
        "\n",
        "ConfusionMatrixDisplay.from_predictions(y_true_bert, y_pred_bert, display_labels=[\"Negative\", \"Positive\"])\n",
        "plt.title(\"Confusion Matrix - Transformers (BERT)\")\n",
        "plt.show()\n"
      ],
      "metadata": {
        "id": "gW73r_k9nhlm",
        "colab": {
          "base_uri": "https://localhost:8080/",
          "height": 472
        },
        "outputId": "af2fff57-f727-4e14-b08e-77556fd46bed"
      },
      "execution_count": 19,
      "outputs": [
        {
          "output_type": "display_data",
          "data": {
            "text/plain": [
              "<Figure size 640x480 with 2 Axes>"
            ],
            "image/png": "[encoded data removed]"
          },
          "metadata": {}
        }
      ]
    },
    {
      "cell_type": "markdown",
      "source": [
        "Training loss plot."
      ],
      "metadata": {
        "id": "eD9I4ttUKMXE"
      }
    },
    {
      "cell_type": "code",
      "source": [
        "import matplotlib.pyplot as plt\n",
        "\n",
        "log_history = trainer.state.log_history\n",
        "\n",
        "steps = []\n",
        "losses = []\n",
        "\n",
        "for entry in log_history:\n",
        "    if \"loss\" in entry and \"epoch\" in entry:\n",
        "        steps.append(entry[\"step\"])\n",
        "        losses.append(entry[\"loss\"])\n",
        "\n",
        "plt.figure(figsize=(8, 5))\n",
        "plt.plot(steps, losses, marker='o')\n",
        "plt.title(\"Training Loss per Step\")\n",
        "plt.xlabel(\"Step\")\n",
        "plt.ylabel(\"Loss\")\n",
        "plt.grid(True)\n",
        "plt.tight_layout()\n",
        "plt.show()\n"
      ],
      "metadata": {
        "id": "5Am0HVxQTOV5",
        "colab": {
          "base_uri": "https://localhost:8080/",
          "height": 507
        },
        "outputId": "5c6df835-c5e0-4c11-f015-484945cb8094"
      },
      "execution_count": 20,
      "outputs": [
        {
          "output_type": "display_data",
          "data": {
            "text/plain": [
              "<Figure size 800x500 with 1 Axes>"
            ],
            "image/png": "[encoded data removed]"
          },
          "metadata": {}
        }
      ]
    },
    {
      "cell_type": "markdown",
      "source": [
        "---\n",
        "\n",
        "\n",
        "\n",
        "**Comparing the models.**\n",
        "\n",
        "---\n",
        "\n"
      ],
      "metadata": {
        "id": "yJjgn-iyRG7-"
      }
    },
    {
      "cell_type": "code",
      "source": [
        "import pandas as pd\n",
        "from sklearn.metrics import classification_report\n",
        "\n",
        "y_pred_lr = y_pred_lr.ravel()\n",
        "y_pred_tree = y_pred_tree.ravel()\n",
        "y_pred_bert = y_pred_bert.ravel()\n",
        "\n",
        "report_lr = classification_report(y_true_lr, y_pred_lr, target_names=[\"Negative\", \"Positive\"], output_dict=True)\n",
        "report_tree = classification_report(y_true_tree, y_pred_tree, target_names=[\"Negative\", \"Positive\"], output_dict=True)\n",
        "report_bert = classification_report(y_true_bert, y_pred_bert, target_names=[\"Negative\", \"Positive\"], output_dict=True)\n",
        "\n",
        "def extract_metrics(report, model_name):\n",
        "    rows = []\n",
        "    for cls in [\"Negative\", \"Positive\"]:\n",
        "        row = {\n",
        "            \"Model\": model_name,\n",
        "            \"Class\": cls,\n",
        "            \"Precision\": round(report[cls][\"precision\"], 2),\n",
        "            \"Recall\": round(report[cls][\"recall\"], 2),\n",
        "            \"F1-Score\": round(report[cls][\"f1-score\"], 2),\n",
        "            \"Support\": int(report[cls][\"support\"])\n",
        "        }\n",
        "        rows.append(row)\n",
        "    return rows\n",
        "\n",
        "data = []\n",
        "data += extract_metrics(report_lr, \"Logistic Regression\")\n",
        "data += extract_metrics(report_tree, \"Dependency Tree\")\n",
        "data += extract_metrics(report_bert, \"Transformers\")\n",
        "\n",
        "comparison_df = pd.DataFrame(data)\n",
        "\n",
        "print(comparison_df)"
      ],
      "metadata": {
        "id": "KbM2C-heaOIV",
        "colab": {
          "base_uri": "https://localhost:8080/"
        },
        "outputId": "50ab2660-eb6a-4b17-cce2-b4899f36215e"
      },
      "execution_count": 21,
      "outputs": [
        {
          "output_type": "stream",
          "name": "stdout",
          "text": [
            "                 Model     Class  Precision  Recall  F1-Score  Support\n",
            "0  Logistic Regression  Negative       0.86    0.81      0.83      590\n",
            "1  Logistic Regression  Positive       0.82    0.87      0.85      610\n",
            "2      Dependency Tree  Negative       0.87    0.81      0.84      599\n",
            "3      Dependency Tree  Positive       0.82    0.88      0.85      601\n",
            "4         Transformers  Negative       0.93    0.91      0.92      400\n",
            "5         Transformers  Positive       0.91    0.94      0.92      400\n"
          ]
        }
      ]
    },
    {
      "cell_type": "code",
      "source": [
        "import pandas as pd\n",
        "import matplotlib.pyplot as plt\n",
        "\n",
        "false_positives_lr = df_test[(df_test[\"true_label\"] == -1) & (df_test[\"predicted_label\"] == 1)]\n",
        "false_negatives_lr = df_test[(df_test[\"true_label\"] == 1) & (df_test[\"predicted_label\"] == -1)]\n",
        "\n",
        "false_positives_tree = df_test_tree[(df_test_tree[\"true_label\"] == -1) & (df_test_tree[\"predicted_label\"] == 1)]\n",
        "false_negatives_tree = df_test_tree[(df_test_tree[\"true_label\"] == 1) & (df_test_tree[\"predicted_label\"] == -1)]\n",
        "\n",
        "false_positives_bert = df_test_bert[(df_test_bert[\"true_label\"] == -1) & (df_test_bert[\"predicted_label\"] == 1)]\n",
        "false_negatives_bert = df_test_bert[(df_test_bert[\"true_label\"] == 1) & (df_test_bert[\"predicted_label\"] == -1)]\n",
        "\n",
        "#total number of errors\n",
        "false_pos_lr_count = len(false_positives_lr)\n",
        "false_neg_lr_count = len(false_negatives_lr)\n",
        "false_pos_tree_count = len(false_positives_tree)\n",
        "false_neg_tree_count = len(false_negatives_tree)\n",
        "false_pos_bert_count = len(false_positives_bert)\n",
        "false_neg_bert_count = len(false_negatives_bert)\n",
        "\n",
        "# comparative dataframe\n",
        "comparison_data = {\n",
        "    \"Model\": [\"Logistic Regression\", \"Logistic Regression\",\n",
        "              \"Dependency Tree\", \"Dependency Tree\",\n",
        "              \"Transformers\", \"Transformers\"],\n",
        "    \"Error Type\": [\"False Positives\", \"False Negatives\",\n",
        "                   \"False Positives\", \"False Negatives\",\n",
        "                   \"False Positives\", \"False Negatives\"],\n",
        "    \"Count\": [false_pos_lr_count, false_neg_lr_count,\n",
        "              false_pos_tree_count, false_neg_tree_count,\n",
        "              false_pos_bert_count, false_neg_bert_count]\n",
        "}\n",
        "\n",
        "comparison_df = pd.DataFrame(comparison_data)\n",
        "\n",
        "print(comparison_df)\n",
        "\n",
        "fig, ax = plt.subplots(1, 2, figsize=(14, 6))\n",
        "\n",
        "ax[0].bar(['LR', 'Tree', 'BERT'],\n",
        "          [false_pos_lr_count, false_pos_tree_count, false_pos_bert_count],\n",
        "          color=['blue', 'orange', 'green'])\n",
        "ax[0].set_title(\"False Positives Comparison\")\n",
        "ax[0].set_ylabel(\"Count\")\n",
        "ax[0].set_xlabel(\"Model\")\n",
        "\n",
        "ax[1].bar(['LR', 'Tree', 'BERT'],\n",
        "          [false_neg_lr_count, false_neg_tree_count, false_neg_bert_count],\n",
        "          color=['blue', 'orange', 'green'])\n",
        "ax[1].set_title(\"False Negatives Comparison\")\n",
        "ax[1].set_ylabel(\"Count\")\n",
        "ax[1].set_xlabel(\"Model\")\n",
        "\n",
        "plt.tight_layout()\n",
        "plt.show()\n",
        "\n",
        "# pie chart\n",
        "labels = ['LR FP', 'Tree FP', 'BERT FP', 'LR FN', 'Tree FN', 'BERT FN']\n",
        "sizes = [false_pos_lr_count, false_pos_tree_count, false_pos_bert_count,\n",
        "         false_neg_lr_count, false_neg_tree_count, false_neg_bert_count]\n",
        "colors = ['#1f77b4', '#ff7f0e', '#2ca02c', '#aec7e8', '#ffbb78', '#98df8a']\n",
        "\n",
        "fig, ax = plt.subplots(figsize=(8, 8))\n",
        "ax.pie(sizes, labels=labels, autopct='%1.1f%%', startangle=90, colors=colors, wedgeprops={'edgecolor': 'black'})\n",
        "ax.set_title(\"Error Type Distribution across Models\")\n",
        "plt.show()"
      ],
      "metadata": {
        "id": "H8QrguGLa0uV",
        "colab": {
          "base_uri": "https://localhost:8080/",
          "height": 1000
        },
        "outputId": "cc9f4a4a-e81c-478e-b75d-69dd6baf6573"
      },
      "execution_count": 22,
      "outputs": [
        {
          "output_type": "stream",
          "name": "stdout",
          "text": [
            "                 Model       Error Type  Count\n",
            "0  Logistic Regression  False Positives    110\n",
            "1  Logistic Regression  False Negatives     54\n",
            "2      Dependency Tree  False Positives    116\n",
            "3      Dependency Tree  False Negatives     70\n",
            "4         Transformers  False Positives     38\n",
            "5         Transformers  False Negatives     26\n"
          ]
        },
        {
          "output_type": "display_data",
          "data": {
            "text/plain": [
              "<Figure size 1400x600 with 2 Axes>"
            ],
            "image/png": "[encoded data removed]"
          },
          "metadata": {}
        },
        {
          "output_type": "display_data",
          "data": {
            "text/plain": [
              "<Figure size 800x800 with 1 Axes>"
            ],
            "image/png": "[encoded data removed]"
          },
          "metadata": {}
        }
      ]
    }
  ]
}
